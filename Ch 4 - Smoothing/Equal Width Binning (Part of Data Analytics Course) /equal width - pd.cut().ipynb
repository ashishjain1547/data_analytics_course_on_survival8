{
 "cells": [
  {
   "cell_type": "code",
   "execution_count": 1,
   "id": "adb53abf-52bd-4f7c-8fc2-322453679198",
   "metadata": {},
   "outputs": [],
   "source": [
    "import pandas as pd"
   ]
  },
  {
   "cell_type": "code",
   "execution_count": 2,
   "id": "6670c4fe-ea66-49de-b9b4-0bbfbec9c9b5",
   "metadata": {},
   "outputs": [],
   "source": [
    "l = [5, 10, 11, 13, 15, 35, 50, 55, 72, 92, 204, 215]"
   ]
  },
  {
   "cell_type": "code",
   "execution_count": 3,
   "id": "cb094a8a-4ee7-4009-b84e-c7eefda60685",
   "metadata": {},
   "outputs": [],
   "source": [
    "s = pd.Series(l)"
   ]
  },
  {
   "cell_type": "code",
   "execution_count": 5,
   "id": "2ea7c194-aa3a-4f32-aa2e-cbb70efd3be3",
   "metadata": {},
   "outputs": [],
   "source": [
    "bins = pd.cut(s, 3) # Equal frequency binning"
   ]
  },
  {
   "cell_type": "markdown",
   "id": "4a55cfb6-6499-4dcd-9cea-e3ab0eb6d6f5",
   "metadata": {},
   "source": [
    "# How do we make data smooth using mean?"
   ]
  },
  {
   "cell_type": "code",
   "execution_count": 6,
   "id": "5f523ba9-6a03-43e2-a9ee-043dd7e8007f",
   "metadata": {},
   "outputs": [],
   "source": [
    "df = pd.DataFrame(\n",
    "    {\n",
    "        'data': l,\n",
    "        'bins': bins\n",
    "    }\n",
    ")"
   ]
  },
  {
   "cell_type": "code",
   "execution_count": 7,
   "id": "50b03566-b2c5-4f9b-b9ea-71ab4b27bd66",
   "metadata": {},
   "outputs": [
    {
     "data": {
      "text/html": [
       "<div>\n",
       "<style scoped>\n",
       "    .dataframe tbody tr th:only-of-type {\n",
       "        vertical-align: middle;\n",
       "    }\n",
       "\n",
       "    .dataframe tbody tr th {\n",
       "        vertical-align: top;\n",
       "    }\n",
       "\n",
       "    .dataframe thead th {\n",
       "        text-align: right;\n",
       "    }\n",
       "</style>\n",
       "<table border=\"1\" class=\"dataframe\">\n",
       "  <thead>\n",
       "    <tr style=\"text-align: right;\">\n",
       "      <th></th>\n",
       "      <th>data</th>\n",
       "      <th>bins</th>\n",
       "    </tr>\n",
       "  </thead>\n",
       "  <tbody>\n",
       "    <tr>\n",
       "      <th>0</th>\n",
       "      <td>5</td>\n",
       "      <td>(4.79, 75.0]</td>\n",
       "    </tr>\n",
       "    <tr>\n",
       "      <th>1</th>\n",
       "      <td>10</td>\n",
       "      <td>(4.79, 75.0]</td>\n",
       "    </tr>\n",
       "    <tr>\n",
       "      <th>2</th>\n",
       "      <td>11</td>\n",
       "      <td>(4.79, 75.0]</td>\n",
       "    </tr>\n",
       "    <tr>\n",
       "      <th>3</th>\n",
       "      <td>13</td>\n",
       "      <td>(4.79, 75.0]</td>\n",
       "    </tr>\n",
       "    <tr>\n",
       "      <th>4</th>\n",
       "      <td>15</td>\n",
       "      <td>(4.79, 75.0]</td>\n",
       "    </tr>\n",
       "    <tr>\n",
       "      <th>5</th>\n",
       "      <td>35</td>\n",
       "      <td>(4.79, 75.0]</td>\n",
       "    </tr>\n",
       "    <tr>\n",
       "      <th>6</th>\n",
       "      <td>50</td>\n",
       "      <td>(4.79, 75.0]</td>\n",
       "    </tr>\n",
       "    <tr>\n",
       "      <th>7</th>\n",
       "      <td>55</td>\n",
       "      <td>(4.79, 75.0]</td>\n",
       "    </tr>\n",
       "    <tr>\n",
       "      <th>8</th>\n",
       "      <td>72</td>\n",
       "      <td>(4.79, 75.0]</td>\n",
       "    </tr>\n",
       "    <tr>\n",
       "      <th>9</th>\n",
       "      <td>92</td>\n",
       "      <td>(75.0, 145.0]</td>\n",
       "    </tr>\n",
       "    <tr>\n",
       "      <th>10</th>\n",
       "      <td>204</td>\n",
       "      <td>(145.0, 215.0]</td>\n",
       "    </tr>\n",
       "    <tr>\n",
       "      <th>11</th>\n",
       "      <td>215</td>\n",
       "      <td>(145.0, 215.0]</td>\n",
       "    </tr>\n",
       "  </tbody>\n",
       "</table>\n",
       "</div>"
      ],
      "text/plain": [
       "    data            bins\n",
       "0      5    (4.79, 75.0]\n",
       "1     10    (4.79, 75.0]\n",
       "2     11    (4.79, 75.0]\n",
       "3     13    (4.79, 75.0]\n",
       "4     15    (4.79, 75.0]\n",
       "5     35    (4.79, 75.0]\n",
       "6     50    (4.79, 75.0]\n",
       "7     55    (4.79, 75.0]\n",
       "8     72    (4.79, 75.0]\n",
       "9     92   (75.0, 145.0]\n",
       "10   204  (145.0, 215.0]\n",
       "11   215  (145.0, 215.0]"
      ]
     },
     "execution_count": 7,
     "metadata": {},
     "output_type": "execute_result"
    }
   ],
   "source": [
    "df"
   ]
  },
  {
   "cell_type": "code",
   "execution_count": 11,
   "id": "9f4d05e5-39af-4480-ac15-895e8ac1e76e",
   "metadata": {},
   "outputs": [],
   "source": [
    "t = df.groupby(['bins']).mean(['data'])"
   ]
  },
  {
   "cell_type": "code",
   "execution_count": 12,
   "id": "83b8f0d0-5677-417c-9473-4f5b48a7c700",
   "metadata": {},
   "outputs": [
    {
     "data": {
      "text/html": [
       "<div>\n",
       "<style scoped>\n",
       "    .dataframe tbody tr th:only-of-type {\n",
       "        vertical-align: middle;\n",
       "    }\n",
       "\n",
       "    .dataframe tbody tr th {\n",
       "        vertical-align: top;\n",
       "    }\n",
       "\n",
       "    .dataframe thead th {\n",
       "        text-align: right;\n",
       "    }\n",
       "</style>\n",
       "<table border=\"1\" class=\"dataframe\">\n",
       "  <thead>\n",
       "    <tr style=\"text-align: right;\">\n",
       "      <th></th>\n",
       "      <th>data</th>\n",
       "    </tr>\n",
       "    <tr>\n",
       "      <th>bins</th>\n",
       "      <th></th>\n",
       "    </tr>\n",
       "  </thead>\n",
       "  <tbody>\n",
       "    <tr>\n",
       "      <th>(4.999, 14.333]</th>\n",
       "      <td>9.75</td>\n",
       "    </tr>\n",
       "    <tr>\n",
       "      <th>(14.333, 60.667]</th>\n",
       "      <td>38.75</td>\n",
       "    </tr>\n",
       "    <tr>\n",
       "      <th>(60.667, 215.0]</th>\n",
       "      <td>145.75</td>\n",
       "    </tr>\n",
       "  </tbody>\n",
       "</table>\n",
       "</div>"
      ],
      "text/plain": [
       "                    data\n",
       "bins                    \n",
       "(4.999, 14.333]     9.75\n",
       "(14.333, 60.667]   38.75\n",
       "(60.667, 215.0]   145.75"
      ]
     },
     "execution_count": 12,
     "metadata": {},
     "output_type": "execute_result"
    }
   ],
   "source": [
    "t"
   ]
  },
  {
   "cell_type": "code",
   "execution_count": 13,
   "id": "65bc9bc3-2c1b-4a10-90a2-5d78b0f1d33c",
   "metadata": {},
   "outputs": [],
   "source": [
    "map_of_mean_values = {}\n",
    "for i in t.iterrows():\n",
    "    \n",
    "    # type(i[0]): Interval\n",
    "    # type(i[1]): Series\n",
    "    \n",
    "    map_of_mean_values.update({str(i[0]): i[1][0]})"
   ]
  },
  {
   "cell_type": "code",
   "execution_count": 14,
   "id": "2e786ad7-7fd6-4c58-a244-4d8c226d61bc",
   "metadata": {},
   "outputs": [
    {
     "data": {
      "text/plain": [
       "{'(4.999, 14.333]': 9.75, '(14.333, 60.667]': 38.75, '(60.667, 215.0]': 145.75}"
      ]
     },
     "execution_count": 14,
     "metadata": {},
     "output_type": "execute_result"
    }
   ],
   "source": [
    "map_of_mean_values"
   ]
  },
  {
   "cell_type": "code",
   "execution_count": 15,
   "id": "8660035a-07b0-4aec-8c71-d48dc7977050",
   "metadata": {},
   "outputs": [],
   "source": [
    "df['bins'] = df['bins'].astype(str)"
   ]
  },
  {
   "cell_type": "code",
   "execution_count": 16,
   "id": "56374c00-0603-4a27-8ec6-7a0607657098",
   "metadata": {},
   "outputs": [
    {
     "data": {
      "text/html": [
       "<div>\n",
       "<style scoped>\n",
       "    .dataframe tbody tr th:only-of-type {\n",
       "        vertical-align: middle;\n",
       "    }\n",
       "\n",
       "    .dataframe tbody tr th {\n",
       "        vertical-align: top;\n",
       "    }\n",
       "\n",
       "    .dataframe thead th {\n",
       "        text-align: right;\n",
       "    }\n",
       "</style>\n",
       "<table border=\"1\" class=\"dataframe\">\n",
       "  <thead>\n",
       "    <tr style=\"text-align: right;\">\n",
       "      <th></th>\n",
       "      <th>data</th>\n",
       "      <th>bins</th>\n",
       "    </tr>\n",
       "  </thead>\n",
       "  <tbody>\n",
       "  </tbody>\n",
       "</table>\n",
       "</div>"
      ],
      "text/plain": [
       "Empty DataFrame\n",
       "Columns: [data, bins]\n",
       "Index: []"
      ]
     },
     "execution_count": 16,
     "metadata": {},
     "output_type": "execute_result"
    }
   ],
   "source": [
    "df[df['bins'] == '(4.999, 12.5]']"
   ]
  },
  {
   "cell_type": "code",
   "execution_count": 17,
   "id": "e1c14ee9-e85e-4d94-8a0c-25b242df36be",
   "metadata": {},
   "outputs": [],
   "source": [
    "df['smoothed_values'] = df['bins'].apply(lambda x: map_of_mean_values[x])"
   ]
  },
  {
   "cell_type": "code",
   "execution_count": 18,
   "id": "dff5d8fa-3c96-4f45-b2e1-c1221398b52d",
   "metadata": {},
   "outputs": [
    {
     "data": {
      "text/html": [
       "<div>\n",
       "<style scoped>\n",
       "    .dataframe tbody tr th:only-of-type {\n",
       "        vertical-align: middle;\n",
       "    }\n",
       "\n",
       "    .dataframe tbody tr th {\n",
       "        vertical-align: top;\n",
       "    }\n",
       "\n",
       "    .dataframe thead th {\n",
       "        text-align: right;\n",
       "    }\n",
       "</style>\n",
       "<table border=\"1\" class=\"dataframe\">\n",
       "  <thead>\n",
       "    <tr style=\"text-align: right;\">\n",
       "      <th></th>\n",
       "      <th>data</th>\n",
       "      <th>bins</th>\n",
       "      <th>smoothed_values</th>\n",
       "    </tr>\n",
       "  </thead>\n",
       "  <tbody>\n",
       "    <tr>\n",
       "      <th>0</th>\n",
       "      <td>5</td>\n",
       "      <td>(4.999, 14.333]</td>\n",
       "      <td>9.75</td>\n",
       "    </tr>\n",
       "    <tr>\n",
       "      <th>1</th>\n",
       "      <td>10</td>\n",
       "      <td>(4.999, 14.333]</td>\n",
       "      <td>9.75</td>\n",
       "    </tr>\n",
       "    <tr>\n",
       "      <th>2</th>\n",
       "      <td>11</td>\n",
       "      <td>(4.999, 14.333]</td>\n",
       "      <td>9.75</td>\n",
       "    </tr>\n",
       "    <tr>\n",
       "      <th>3</th>\n",
       "      <td>13</td>\n",
       "      <td>(4.999, 14.333]</td>\n",
       "      <td>9.75</td>\n",
       "    </tr>\n",
       "    <tr>\n",
       "      <th>4</th>\n",
       "      <td>15</td>\n",
       "      <td>(14.333, 60.667]</td>\n",
       "      <td>38.75</td>\n",
       "    </tr>\n",
       "    <tr>\n",
       "      <th>5</th>\n",
       "      <td>35</td>\n",
       "      <td>(14.333, 60.667]</td>\n",
       "      <td>38.75</td>\n",
       "    </tr>\n",
       "    <tr>\n",
       "      <th>6</th>\n",
       "      <td>50</td>\n",
       "      <td>(14.333, 60.667]</td>\n",
       "      <td>38.75</td>\n",
       "    </tr>\n",
       "    <tr>\n",
       "      <th>7</th>\n",
       "      <td>55</td>\n",
       "      <td>(14.333, 60.667]</td>\n",
       "      <td>38.75</td>\n",
       "    </tr>\n",
       "    <tr>\n",
       "      <th>8</th>\n",
       "      <td>72</td>\n",
       "      <td>(60.667, 215.0]</td>\n",
       "      <td>145.75</td>\n",
       "    </tr>\n",
       "    <tr>\n",
       "      <th>9</th>\n",
       "      <td>92</td>\n",
       "      <td>(60.667, 215.0]</td>\n",
       "      <td>145.75</td>\n",
       "    </tr>\n",
       "    <tr>\n",
       "      <th>10</th>\n",
       "      <td>204</td>\n",
       "      <td>(60.667, 215.0]</td>\n",
       "      <td>145.75</td>\n",
       "    </tr>\n",
       "    <tr>\n",
       "      <th>11</th>\n",
       "      <td>215</td>\n",
       "      <td>(60.667, 215.0]</td>\n",
       "      <td>145.75</td>\n",
       "    </tr>\n",
       "  </tbody>\n",
       "</table>\n",
       "</div>"
      ],
      "text/plain": [
       "    data              bins  smoothed_values\n",
       "0      5   (4.999, 14.333]             9.75\n",
       "1     10   (4.999, 14.333]             9.75\n",
       "2     11   (4.999, 14.333]             9.75\n",
       "3     13   (4.999, 14.333]             9.75\n",
       "4     15  (14.333, 60.667]            38.75\n",
       "5     35  (14.333, 60.667]            38.75\n",
       "6     50  (14.333, 60.667]            38.75\n",
       "7     55  (14.333, 60.667]            38.75\n",
       "8     72   (60.667, 215.0]           145.75\n",
       "9     92   (60.667, 215.0]           145.75\n",
       "10   204   (60.667, 215.0]           145.75\n",
       "11   215   (60.667, 215.0]           145.75"
      ]
     },
     "execution_count": 18,
     "metadata": {},
     "output_type": "execute_result"
    }
   ],
   "source": [
    "df"
   ]
  },
  {
   "cell_type": "code",
   "execution_count": 19,
   "id": "bfbe9a1f-5cd5-44ba-9ec3-cdc9a871eea9",
   "metadata": {},
   "outputs": [],
   "source": [
    "import matplotlib.pyplot as plt"
   ]
  },
  {
   "cell_type": "code",
   "execution_count": 20,
   "id": "8f7283ac-76b4-42a0-b87c-9f04452a6ebc",
   "metadata": {},
   "outputs": [
    {
     "data": {
      "text/plain": [
       "[<matplotlib.lines.Line2D at 0x7fdc807a8d90>]"
      ]
     },
     "execution_count": 20,
     "metadata": {},
     "output_type": "execute_result"
    },
    {
     "data": {
      "image/png": "[encoded data removed]",
      "text/plain": [
       "<Figure size 640x480 with 1 Axes>"
      ]
     },
     "metadata": {},
     "output_type": "display_data"
    }
   ],
   "source": [
    "plt.plot(df['data'])\n",
    "plt.plot(df['smoothed_values'])"
   ]
  },
  {
   "cell_type": "code",
   "execution_count": null,
   "id": "6c67b3f4-2e28-4124-9936-06cf955bd625",
   "metadata": {},
   "outputs": [],
   "source": []
  }
 ],
 "metadata": {
  "kernelspec": {
   "display_name": "Python 3 (ipykernel)",
   "language": "python",
   "name": "python3"
  },
  "language_info": {
   "codemirror_mode": {
    "name": "ipython",
    "version": 3
   },
   "file_extension": ".py",
   "mimetype": "text/x-python",
   "name": "python",
   "nbconvert_exporter": "python",
   "pygments_lexer": "ipython3",
   "version": "3.9.13"
  }
 },
 "nbformat": 4,
 "nbformat_minor": 5
}
